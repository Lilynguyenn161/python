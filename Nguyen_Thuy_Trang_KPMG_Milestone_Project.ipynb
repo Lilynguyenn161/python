{
 "cells": [
  {
   "cell_type": "code",
   "execution_count": 1,
   "metadata": {},
   "outputs": [],
   "source": [
    "#data wrangling\n",
    "import pandas as pd\n",
    "\n",
    "#datetime\n",
    "import datetime as dt\n"
   ]
  },
  {
   "cell_type": "code",
   "execution_count": 2,
   "metadata": {
    "scrolled": true
   },
   "outputs": [
    {
     "name": "stdout",
     "output_type": "stream",
     "text": [
      "   transaction_id  product_id  customer_id transaction_date  online_order  \\\n",
      "0               1           2         2950       2017-02-25           0.0   \n",
      "1               2           3         3120       2017-05-21           1.0   \n",
      "2               3          37          402       2017-10-16           0.0   \n",
      "3               4          88         3135       2017-08-31           0.0   \n",
      "4               5          78          787       2017-10-01           1.0   \n",
      "\n",
      "  order_status           brand product_line product_class product_size  \\\n",
      "0     Approved           Solex     Standard        medium       medium   \n",
      "1     Approved   Trek Bicycles     Standard        medium        large   \n",
      "2     Approved      OHM Cycles     Standard           low       medium   \n",
      "3     Approved  Norco Bicycles     Standard        medium       medium   \n",
      "4     Approved  Giant Bicycles     Standard        medium        large   \n",
      "\n",
      "   list_price  standard_cost  product_first_sold_date  \n",
      "0       71.49          53.62                  41245.0  \n",
      "1     2091.47         388.92                  41701.0  \n",
      "2     1793.43         248.82                  36361.0  \n",
      "3     1198.46         381.10                  36145.0  \n",
      "4     1765.30         709.48                  42226.0  \n"
     ]
    }
   ],
   "source": [
    "# load sheet Transactions trong file KPMG và in ra 5 dòng đầu tiên\n",
    "#KPMG = pd.ExcelFile('C:\\Users\\Admin\\Downloads\\KPMG_Milestone_Project\\KPMG_Milestone_Project\\KPMG\\KPMG.xlsx')\n",
    "transaction = pd.read_excel('KPMG.xlsx', sheet_name=\"Transactions\")\n",
    "#new_cus_list = pd.read_excel('KPMG.xlsx', sheet_name=\"NewCustomerList\")\n",
    "#cus_demographic = pd.read_excel('KPMG.xlsx', sheet_name=\"CustomerDemographic\")\n",
    "#cus_address = pd.read_excel('KPMG.xlsx', sheet_name=\"CustomerAddress\")\n",
    "print(transaction.head())"
   ]
  },
  {
   "cell_type": "code",
   "execution_count": 3,
   "metadata": {},
   "outputs": [
    {
     "name": "stdout",
     "output_type": "stream",
     "text": [
      "<class 'pandas.core.frame.DataFrame'>\n",
      "RangeIndex: 20000 entries, 0 to 19999\n",
      "Data columns (total 13 columns):\n",
      " #   Column                   Non-Null Count  Dtype         \n",
      "---  ------                   --------------  -----         \n",
      " 0   transaction_id           20000 non-null  int64         \n",
      " 1   product_id               20000 non-null  int64         \n",
      " 2   customer_id              20000 non-null  int64         \n",
      " 3   transaction_date         20000 non-null  datetime64[ns]\n",
      " 4   online_order             19640 non-null  float64       \n",
      " 5   order_status             20000 non-null  object        \n",
      " 6   brand                    19803 non-null  object        \n",
      " 7   product_line             19803 non-null  object        \n",
      " 8   product_class            19803 non-null  object        \n",
      " 9   product_size             19803 non-null  object        \n",
      " 10  list_price               20000 non-null  float64       \n",
      " 11  standard_cost            19803 non-null  float64       \n",
      " 12  product_first_sold_date  19803 non-null  float64       \n",
      "dtypes: datetime64[ns](1), float64(4), int64(3), object(5)\n",
      "memory usage: 2.0+ MB\n",
      "None\n"
     ]
    }
   ],
   "source": [
    "# in ra info bảng\n",
    "print(transaction.info())"
   ]
  },
  {
   "cell_type": "code",
   "execution_count": 4,
   "metadata": {
    "scrolled": true
   },
   "outputs": [
    {
     "name": "stdout",
     "output_type": "stream",
     "text": [
      "       transaction_id   product_id   customer_id  online_order    list_price  \\\n",
      "count    20000.000000  20000.00000  20000.000000  19640.000000  20000.000000   \n",
      "mean     10000.500000     45.36465   1738.246050      0.500458   1107.829449   \n",
      "std       5773.647028     30.75359   1011.951046      0.500013    582.825242   \n",
      "min          1.000000      0.00000      1.000000      0.000000     12.010000   \n",
      "25%       5000.750000     18.00000    857.750000      0.000000    575.270000   \n",
      "50%      10000.500000     44.00000   1736.000000      1.000000   1163.890000   \n",
      "75%      15000.250000     72.00000   2613.000000      1.000000   1635.300000   \n",
      "max      20000.000000    100.00000   5034.000000      1.000000   2091.470000   \n",
      "\n",
      "       standard_cost  product_first_sold_date  \n",
      "count   19803.000000             19803.000000  \n",
      "mean      556.046951             38199.776549  \n",
      "std       405.955660              2875.201110  \n",
      "min         7.210000             33259.000000  \n",
      "25%       215.140000             35667.000000  \n",
      "50%       507.580000             38216.000000  \n",
      "75%       795.100000             40672.000000  \n",
      "max      1759.850000             42710.000000  \n"
     ]
    }
   ],
   "source": [
    "# describe default\n",
    "print(transaction.describe())"
   ]
  },
  {
   "cell_type": "code",
   "execution_count": 5,
   "metadata": {
    "scrolled": true
   },
   "outputs": [
    {
     "name": "stdout",
     "output_type": "stream",
     "text": [
      "       order_status  brand product_line product_class product_size\n",
      "count         20000  19803        19803         19803        19803\n",
      "unique            2      6            4             3            3\n",
      "top        Approved  Solex     Standard        medium       medium\n",
      "freq          19821   4253        14176         13826        12990\n"
     ]
    }
   ],
   "source": [
    "# describe các biến object\n",
    "print(transaction.describe(include = ['O']))"
   ]
  },
  {
   "cell_type": "code",
   "execution_count": 6,
   "metadata": {},
   "outputs": [
    {
     "name": "stdout",
     "output_type": "stream",
     "text": [
      "        transaction_id   product_id   customer_id     transaction_date  \\\n",
      "count     20000.000000  20000.00000  20000.000000                20000   \n",
      "unique             NaN          NaN           NaN                  364   \n",
      "top                NaN          NaN           NaN  2017-02-14 00:00:00   \n",
      "freq               NaN          NaN           NaN                   82   \n",
      "first              NaN          NaN           NaN  2017-01-01 00:00:00   \n",
      "last               NaN          NaN           NaN  2017-12-30 00:00:00   \n",
      "mean      10000.500000     45.36465   1738.246050                  NaN   \n",
      "std        5773.647028     30.75359   1011.951046                  NaN   \n",
      "min           1.000000      0.00000      1.000000                  NaN   \n",
      "25%        5000.750000     18.00000    857.750000                  NaN   \n",
      "50%       10000.500000     44.00000   1736.000000                  NaN   \n",
      "75%       15000.250000     72.00000   2613.000000                  NaN   \n",
      "max       20000.000000    100.00000   5034.000000                  NaN   \n",
      "\n",
      "        online_order order_status  brand product_line product_class  \\\n",
      "count   19640.000000        20000  19803        19803         19803   \n",
      "unique           NaN            2      6            4             3   \n",
      "top              NaN     Approved  Solex     Standard        medium   \n",
      "freq             NaN        19821   4253        14176         13826   \n",
      "first            NaN          NaN    NaN          NaN           NaN   \n",
      "last             NaN          NaN    NaN          NaN           NaN   \n",
      "mean        0.500458          NaN    NaN          NaN           NaN   \n",
      "std         0.500013          NaN    NaN          NaN           NaN   \n",
      "min         0.000000          NaN    NaN          NaN           NaN   \n",
      "25%         0.000000          NaN    NaN          NaN           NaN   \n",
      "50%         1.000000          NaN    NaN          NaN           NaN   \n",
      "75%         1.000000          NaN    NaN          NaN           NaN   \n",
      "max         1.000000          NaN    NaN          NaN           NaN   \n",
      "\n",
      "       product_size    list_price  standard_cost  product_first_sold_date  \n",
      "count         19803  20000.000000   19803.000000             19803.000000  \n",
      "unique            3           NaN            NaN                      NaN  \n",
      "top          medium           NaN            NaN                      NaN  \n",
      "freq          12990           NaN            NaN                      NaN  \n",
      "first           NaN           NaN            NaN                      NaN  \n",
      "last            NaN           NaN            NaN                      NaN  \n",
      "mean            NaN   1107.829449     556.046951             38199.776549  \n",
      "std             NaN    582.825242     405.955660              2875.201110  \n",
      "min             NaN     12.010000       7.210000             33259.000000  \n",
      "25%             NaN    575.270000     215.140000             35667.000000  \n",
      "50%             NaN   1163.890000     507.580000             38216.000000  \n",
      "75%             NaN   1635.300000     795.100000             40672.000000  \n",
      "max             NaN   2091.470000    1759.850000             42710.000000  \n"
     ]
    },
    {
     "name": "stderr",
     "output_type": "stream",
     "text": [
      "C:\\Users\\Admin\\AppData\\Local\\Temp\\ipykernel_16104\\467461804.py:2: FutureWarning: Treating datetime data as categorical rather than numeric in `.describe` is deprecated and will be removed in a future version of pandas. Specify `datetime_is_numeric=True` to silence this warning and adopt the future behavior now.\n",
      "  print(transaction.describe(include = 'all'))\n"
     ]
    }
   ],
   "source": [
    "# describe all\n",
    "print(transaction.describe(include = 'all'))"
   ]
  },
  {
   "cell_type": "code",
   "execution_count": 7,
   "metadata": {
    "scrolled": true
   },
   "outputs": [
    {
     "data": {
      "text/plain": [
       "transaction_id               0\n",
       "product_id                   0\n",
       "customer_id                  0\n",
       "transaction_date             0\n",
       "online_order               360\n",
       "order_status                 0\n",
       "brand                      197\n",
       "product_line               197\n",
       "product_class              197\n",
       "product_size               197\n",
       "list_price                   0\n",
       "standard_cost              197\n",
       "product_first_sold_date    197\n",
       "dtype: int64"
      ]
     },
     "execution_count": 7,
     "metadata": {},
     "output_type": "execute_result"
    }
   ],
   "source": [
    "# count số dòng bị null ở mỗi cột\n",
    "transaction.isnull().sum(axis = 0)"
   ]
  },
  {
   "cell_type": "markdown",
   "metadata": {},
   "source": [
    "# 1. Data Correction"
   ]
  },
  {
   "cell_type": "markdown",
   "metadata": {},
   "source": [
    "## 1.1 Drop NA"
   ]
  },
  {
   "cell_type": "code",
   "execution_count": 8,
   "metadata": {
    "scrolled": true
   },
   "outputs": [
    {
     "name": "stdout",
     "output_type": "stream",
     "text": [
      "<class 'pandas.core.frame.DataFrame'>\n",
      "Int64Index: 19445 entries, 0 to 19999\n",
      "Data columns (total 13 columns):\n",
      " #   Column                   Non-Null Count  Dtype         \n",
      "---  ------                   --------------  -----         \n",
      " 0   transaction_id           19445 non-null  int64         \n",
      " 1   product_id               19445 non-null  int64         \n",
      " 2   customer_id              19445 non-null  int64         \n",
      " 3   transaction_date         19445 non-null  datetime64[ns]\n",
      " 4   online_order             19445 non-null  float64       \n",
      " 5   order_status             19445 non-null  object        \n",
      " 6   brand                    19445 non-null  object        \n",
      " 7   product_line             19445 non-null  object        \n",
      " 8   product_class            19445 non-null  object        \n",
      " 9   product_size             19445 non-null  object        \n",
      " 10  list_price               19445 non-null  float64       \n",
      " 11  standard_cost            19445 non-null  float64       \n",
      " 12  product_first_sold_date  19445 non-null  float64       \n",
      "dtypes: datetime64[ns](1), float64(4), int64(3), object(5)\n",
      "memory usage: 2.1+ MB\n",
      "None\n"
     ]
    }
   ],
   "source": [
    "# tạo bảng df_dropna_all bằng cách loại bỏ tất cả giá trị null trong bảng và in ra info\n",
    "df_dropna_all = transaction.dropna()\n",
    "print(df_dropna_all.info())"
   ]
  },
  {
   "cell_type": "code",
   "execution_count": 9,
   "metadata": {
    "scrolled": true
   },
   "outputs": [
    {
     "name": "stdout",
     "output_type": "stream",
     "text": [
      "<class 'pandas.core.frame.DataFrame'>\n",
      "Int64Index: 19640 entries, 0 to 19999\n",
      "Data columns (total 13 columns):\n",
      " #   Column                   Non-Null Count  Dtype         \n",
      "---  ------                   --------------  -----         \n",
      " 0   transaction_id           19640 non-null  int64         \n",
      " 1   product_id               19640 non-null  int64         \n",
      " 2   customer_id              19640 non-null  int64         \n",
      " 3   transaction_date         19640 non-null  datetime64[ns]\n",
      " 4   online_order             19640 non-null  float64       \n",
      " 5   order_status             19640 non-null  object        \n",
      " 6   brand                    19445 non-null  object        \n",
      " 7   product_line             19445 non-null  object        \n",
      " 8   product_class            19445 non-null  object        \n",
      " 9   product_size             19445 non-null  object        \n",
      " 10  list_price               19640 non-null  float64       \n",
      " 11  standard_cost            19445 non-null  float64       \n",
      " 12  product_first_sold_date  19445 non-null  float64       \n",
      "dtypes: datetime64[ns](1), float64(4), int64(3), object(5)\n",
      "memory usage: 2.1+ MB\n",
      "None\n"
     ]
    }
   ],
   "source": [
    "# tạo bảng df_dropna_online_order bằng cách loại bỏ giá trị null trong cột online_order và in ra info\n",
    "df_dropna_online_order = transaction.dropna(subset='online_order')\n",
    "print(df_dropna_online_order.info())"
   ]
  },
  {
   "cell_type": "markdown",
   "metadata": {},
   "source": [
    "## 1.2 Fill NA"
   ]
  },
  {
   "cell_type": "code",
   "execution_count": 10,
   "metadata": {},
   "outputs": [
    {
     "name": "stdout",
     "output_type": "stream",
     "text": [
      "<class 'pandas.core.frame.DataFrame'>\n",
      "RangeIndex: 20000 entries, 0 to 19999\n",
      "Data columns (total 13 columns):\n",
      " #   Column                   Non-Null Count  Dtype         \n",
      "---  ------                   --------------  -----         \n",
      " 0   transaction_id           20000 non-null  int64         \n",
      " 1   product_id               20000 non-null  int64         \n",
      " 2   customer_id              20000 non-null  int64         \n",
      " 3   transaction_date         20000 non-null  datetime64[ns]\n",
      " 4   online_order             20000 non-null  float64       \n",
      " 5   order_status             20000 non-null  object        \n",
      " 6   brand                    20000 non-null  object        \n",
      " 7   product_line             20000 non-null  object        \n",
      " 8   product_class            20000 non-null  object        \n",
      " 9   product_size             20000 non-null  object        \n",
      " 10  list_price               20000 non-null  float64       \n",
      " 11  standard_cost            20000 non-null  float64       \n",
      " 12  product_first_sold_date  20000 non-null  float64       \n",
      "dtypes: datetime64[ns](1), float64(4), int64(3), object(5)\n",
      "memory usage: 2.0+ MB\n",
      "None\n"
     ]
    }
   ],
   "source": [
    "# fill tất cả NA bằng 0, lưu vào bảng df_fillna_0 và in ra info\n",
    "df_fillna_0 = transaction.fillna(0)\n",
    "print(df_fillna_0.info())"
   ]
  },
  {
   "cell_type": "code",
   "execution_count": 11,
   "metadata": {},
   "outputs": [
    {
     "name": "stdout",
     "output_type": "stream",
     "text": [
      "<bound method DataFrame.ffill of        transaction_id  product_id  customer_id transaction_date  online_order  \\\n",
      "0                   1           2         2950       2017-02-25           0.0   \n",
      "1                   2           3         3120       2017-05-21           1.0   \n",
      "2                   3          37          402       2017-10-16           0.0   \n",
      "3                   4          88         3135       2017-08-31           0.0   \n",
      "4                   5          78          787       2017-10-01           1.0   \n",
      "...               ...         ...          ...              ...           ...   \n",
      "19995           19996          51         1018       2017-06-24           1.0   \n",
      "19996           19997          41          127       2017-11-09           1.0   \n",
      "19997           19998          87         2284       2017-04-14           1.0   \n",
      "19998           19999           6         2764       2017-07-03           0.0   \n",
      "19999           20000          11         1144       2017-09-22           1.0   \n",
      "\n",
      "      order_status           brand product_line product_class product_size  \\\n",
      "0         Approved           Solex     Standard        medium       medium   \n",
      "1         Approved   Trek Bicycles     Standard        medium        large   \n",
      "2         Approved      OHM Cycles     Standard           low       medium   \n",
      "3         Approved  Norco Bicycles     Standard        medium       medium   \n",
      "4         Approved  Giant Bicycles     Standard        medium        large   \n",
      "...            ...             ...          ...           ...          ...   \n",
      "19995     Approved      OHM Cycles     Standard          high       medium   \n",
      "19996     Approved           Solex         Road        medium       medium   \n",
      "19997     Approved      OHM Cycles     Standard        medium       medium   \n",
      "19998     Approved      OHM Cycles     Standard          high       medium   \n",
      "19999     Approved   Trek Bicycles     Standard        medium        small   \n",
      "\n",
      "       list_price  standard_cost  product_first_sold_date  \n",
      "0           71.49          53.62                  41245.0  \n",
      "1         2091.47         388.92                  41701.0  \n",
      "2         1793.43         248.82                  36361.0  \n",
      "3         1198.46         381.10                  36145.0  \n",
      "4         1765.30         709.48                  42226.0  \n",
      "...           ...            ...                      ...  \n",
      "19995     2005.66        1203.40                  37823.0  \n",
      "19996      416.98         312.74                  35560.0  \n",
      "19997     1636.90          44.71                  40410.0  \n",
      "19998      227.88         136.73                  38216.0  \n",
      "19999     1775.81        1580.47                  36334.0  \n",
      "\n",
      "[20000 rows x 13 columns]>\n"
     ]
    }
   ],
   "source": [
    "# fill NA bằng ffill, lưu vào bảng df_fillna_ffill và in ra info\n",
    "df_fillna_ffill = transaction.ffill\n",
    "print(df_fillna_ffill)"
   ]
  },
  {
   "cell_type": "code",
   "execution_count": 12,
   "metadata": {
    "scrolled": true
   },
   "outputs": [
    {
     "name": "stdout",
     "output_type": "stream",
     "text": [
      "<bound method DataFrame.bfill of        transaction_id  product_id  customer_id transaction_date  online_order  \\\n",
      "0                   1           2         2950       2017-02-25           0.0   \n",
      "1                   2           3         3120       2017-05-21           1.0   \n",
      "2                   3          37          402       2017-10-16           0.0   \n",
      "3                   4          88         3135       2017-08-31           0.0   \n",
      "4                   5          78          787       2017-10-01           1.0   \n",
      "...               ...         ...          ...              ...           ...   \n",
      "19995           19996          51         1018       2017-06-24           1.0   \n",
      "19996           19997          41          127       2017-11-09           1.0   \n",
      "19997           19998          87         2284       2017-04-14           1.0   \n",
      "19998           19999           6         2764       2017-07-03           0.0   \n",
      "19999           20000          11         1144       2017-09-22           1.0   \n",
      "\n",
      "      order_status           brand product_line product_class product_size  \\\n",
      "0         Approved           Solex     Standard        medium       medium   \n",
      "1         Approved   Trek Bicycles     Standard        medium        large   \n",
      "2         Approved      OHM Cycles     Standard           low       medium   \n",
      "3         Approved  Norco Bicycles     Standard        medium       medium   \n",
      "4         Approved  Giant Bicycles     Standard        medium        large   \n",
      "...            ...             ...          ...           ...          ...   \n",
      "19995     Approved      OHM Cycles     Standard          high       medium   \n",
      "19996     Approved           Solex         Road        medium       medium   \n",
      "19997     Approved      OHM Cycles     Standard        medium       medium   \n",
      "19998     Approved      OHM Cycles     Standard          high       medium   \n",
      "19999     Approved   Trek Bicycles     Standard        medium        small   \n",
      "\n",
      "       list_price  standard_cost  product_first_sold_date  \n",
      "0           71.49          53.62                  41245.0  \n",
      "1         2091.47         388.92                  41701.0  \n",
      "2         1793.43         248.82                  36361.0  \n",
      "3         1198.46         381.10                  36145.0  \n",
      "4         1765.30         709.48                  42226.0  \n",
      "...           ...            ...                      ...  \n",
      "19995     2005.66        1203.40                  37823.0  \n",
      "19996      416.98         312.74                  35560.0  \n",
      "19997     1636.90          44.71                  40410.0  \n",
      "19998      227.88         136.73                  38216.0  \n",
      "19999     1775.81        1580.47                  36334.0  \n",
      "\n",
      "[20000 rows x 13 columns]>\n"
     ]
    }
   ],
   "source": [
    "# fill NA bằng bfill, lưu vào bảng df_fillna_bfill và in ra info\n",
    "df_fillna_bfill = transaction.bfill\n",
    "print(df_fillna_bfill)"
   ]
  },
  {
   "cell_type": "markdown",
   "metadata": {},
   "source": [
    "## 1.3. Assess Categorical Data"
   ]
  },
  {
   "cell_type": "code",
   "execution_count": 13,
   "metadata": {},
   "outputs": [
    {
     "name": "stdout",
     "output_type": "stream",
     "text": [
      "   customer_id      first_name  last_name  gender  \\\n",
      "0            1         Laraine  Medendorp       F   \n",
      "1            2             Eli    Bockman    Male   \n",
      "2            3           Arlin     Dearle    Male   \n",
      "3            4          Talbot        NaN    Male   \n",
      "4            5  Sheila-kathryn     Calton  Female   \n",
      "\n",
      "   past_3_years_bike_related_purchases        DOB               job_title  \\\n",
      "0                                   93 1953-10-12     Executive Secretary   \n",
      "1                                   81 1980-12-16  Administrative Officer   \n",
      "2                                   61 1954-01-20      Recruiting Manager   \n",
      "3                                   33 1961-10-03                     NaN   \n",
      "4                                   56 1977-05-13           Senior Editor   \n",
      "\n",
      "  job_industry_category     wealth_segment deceased_indicator  \\\n",
      "0                Health      Mass Customer                  N   \n",
      "1    Financial Services      Mass Customer                  N   \n",
      "2              Property      Mass Customer                  N   \n",
      "3                    IT      Mass Customer                  N   \n",
      "4                   NaN  Affluent Customer                  N   \n",
      "\n",
      "                                             default owns_car  tenure  \n",
      "0                                                 \"'      Yes    11.0  \n",
      "1                       <script>alert('hi')</script>      Yes    16.0  \n",
      "2                                2018-02-01 00:00:00      Yes    15.0  \n",
      "3  () { _; } >_[$($())] { touch /tmp/blns.shellsh...       No     7.0  \n",
      "4                                                NIL      Yes     8.0  \n"
     ]
    },
    {
     "name": "stderr",
     "output_type": "stream",
     "text": [
      "C:\\Users\\Admin\\AppData\\Local\\Temp\\ipykernel_16104\\2086416319.py:2: FutureWarning: Inferring datetime64[ns] from data containing strings is deprecated and will be removed in a future version. To retain the old behavior explicitly pass Series(data, dtype=datetime64[ns])\n",
      "  cus_demographic = pd.read_excel('KPMG.xlsx', sheet_name=\"CustomerDemographic\")\n"
     ]
    }
   ],
   "source": [
    "# load sheet Demographic và hiển thị 5 dòng đầu tiên\n",
    "cus_demographic = pd.read_excel('KPMG.xlsx', sheet_name=\"CustomerDemographic\")\n",
    "print(cus_demographic.head())"
   ]
  },
  {
   "cell_type": "code",
   "execution_count": 14,
   "metadata": {},
   "outputs": [
    {
     "name": "stdout",
     "output_type": "stream",
     "text": [
      "<class 'pandas.core.frame.DataFrame'>\n",
      "RangeIndex: 4000 entries, 0 to 3999\n",
      "Data columns (total 13 columns):\n",
      " #   Column                               Non-Null Count  Dtype         \n",
      "---  ------                               --------------  -----         \n",
      " 0   customer_id                          4000 non-null   int64         \n",
      " 1   first_name                           4000 non-null   object        \n",
      " 2   last_name                            3875 non-null   object        \n",
      " 3   gender                               4000 non-null   object        \n",
      " 4   past_3_years_bike_related_purchases  4000 non-null   int64         \n",
      " 5   DOB                                  3913 non-null   datetime64[ns]\n",
      " 6   job_title                            3494 non-null   object        \n",
      " 7   job_industry_category                3344 non-null   object        \n",
      " 8   wealth_segment                       4000 non-null   object        \n",
      " 9   deceased_indicator                   4000 non-null   object        \n",
      " 10  default                              3698 non-null   object        \n",
      " 11  owns_car                             4000 non-null   object        \n",
      " 12  tenure                               3913 non-null   float64       \n",
      "dtypes: datetime64[ns](1), float64(1), int64(2), object(9)\n",
      "memory usage: 406.4+ KB\n",
      "None\n"
     ]
    }
   ],
   "source": [
    "# in ra info bảng\n",
    "print(cus_demographic.info())"
   ]
  },
  {
   "cell_type": "code",
   "execution_count": 15,
   "metadata": {},
   "outputs": [
    {
     "name": "stdout",
     "output_type": "stream",
     "text": [
      "       first_name last_name  gender                             job_title  \\\n",
      "count        4000      3875    4000                                  3494   \n",
      "unique       3139      3725       6                                   195   \n",
      "top           Max  Pristnor  Female  Business Systems Development Analyst   \n",
      "freq            5         3    2037                                    45   \n",
      "\n",
      "       job_industry_category wealth_segment deceased_indicator  default  \\\n",
      "count                   3344           4000               4000     3698   \n",
      "unique                     9              3                  2       90   \n",
      "top            Manufacturing  Mass Customer                  N      100   \n",
      "freq                     799           2000               3998      113   \n",
      "\n",
      "       owns_car  \n",
      "count      4000  \n",
      "unique        2  \n",
      "top         Yes  \n",
      "freq       2024  \n"
     ]
    }
   ],
   "source": [
    "# describe các giá trị object\n",
    "print(cus_demographic.describe(include = ['O']))"
   ]
  },
  {
   "cell_type": "code",
   "execution_count": 16,
   "metadata": {},
   "outputs": [],
   "source": [
    "# Remove all NA rows, then use output for the following steps\n",
    "cus_demographic_notnull= cus_demographic.dropna()"
   ]
  },
  {
   "cell_type": "code",
   "execution_count": 17,
   "metadata": {},
   "outputs": [
    {
     "name": "stdout",
     "output_type": "stream",
     "text": [
      "['F' 'Male' 'Female' 'Femal']\n"
     ]
    }
   ],
   "source": [
    "# In ra các giá trị unique của cột gender\n",
    "print(cus_demographic_notnull['gender'].unique())"
   ]
  },
  {
   "cell_type": "code",
   "execution_count": 18,
   "metadata": {},
   "outputs": [
    {
     "name": "stdout",
     "output_type": "stream",
     "text": [
      "['Female' 'Male']\n"
     ]
    }
   ],
   "source": [
    "# Quy chuẩn cột gender về các nhóm Male, Female, Unisex và in ra giá trị unique mới\n",
    "cus_demographic_notnull = cus_demographic_notnull.replace(to_replace=[\"F\",\"Femal\"],value=\"Female\")\n",
    "print(cus_demographic_notnull['gender'].unique())"
   ]
  },
  {
   "cell_type": "code",
   "execution_count": 19,
   "metadata": {},
   "outputs": [
    {
     "name": "stdout",
     "output_type": "stream",
     "text": [
      "20\n",
      "91\n"
     ]
    },
    {
     "name": "stderr",
     "output_type": "stream",
     "text": [
      "C:\\Users\\Admin\\anaconda3\\lib\\site-packages\\pandas\\core\\arrays\\datetimes.py:2199: FutureWarning: The parsing of 'now' in pd.to_datetime without `utc=True` is deprecated. In a future version, this will match Timestamp('now') and Timestamp.now()\n",
      "  result, tz_parsed = tslib.array_to_datetime(\n"
     ]
    }
   ],
   "source": [
    "# Tính tuổi của mỗi khách hàng, lưu vào cột \"age\" và in ra min age, max age\n",
    "cus_demographic_notnull['DOB'] = pd.to_datetime(cus_demographic_notnull['DOB'], format='%Y%m%d')\n",
    "now = pd.to_datetime('now')\n",
    "cus_demographic_notnull['age'] = (now.year - cus_demographic_notnull['DOB'].dt.year) - ((now.month - cus_demographic_notnull['DOB'].dt.month) < 0)\n",
    "print(cus_demographic_notnull['age'].min())\n",
    "print(cus_demographic_notnull['age'].max())"
   ]
  },
  {
   "cell_type": "code",
   "execution_count": 20,
   "metadata": {},
   "outputs": [
    {
     "data": {
      "text/html": [
       "<div>\n",
       "<style scoped>\n",
       "    .dataframe tbody tr th:only-of-type {\n",
       "        vertical-align: middle;\n",
       "    }\n",
       "\n",
       "    .dataframe tbody tr th {\n",
       "        vertical-align: top;\n",
       "    }\n",
       "\n",
       "    .dataframe thead th {\n",
       "        text-align: right;\n",
       "    }\n",
       "</style>\n",
       "<table border=\"1\" class=\"dataframe\">\n",
       "  <thead>\n",
       "    <tr style=\"text-align: right;\">\n",
       "      <th></th>\n",
       "      <th>age</th>\n",
       "      <th>age_group</th>\n",
       "    </tr>\n",
       "  </thead>\n",
       "  <tbody>\n",
       "    <tr>\n",
       "      <th>0</th>\n",
       "      <td>69</td>\n",
       "      <td>Older</td>\n",
       "    </tr>\n",
       "    <tr>\n",
       "      <th>1</th>\n",
       "      <td>41</td>\n",
       "      <td>Middle</td>\n",
       "    </tr>\n",
       "    <tr>\n",
       "      <th>2</th>\n",
       "      <td>68</td>\n",
       "      <td>Older</td>\n",
       "    </tr>\n",
       "    <tr>\n",
       "      <th>8</th>\n",
       "      <td>49</td>\n",
       "      <td>Middle</td>\n",
       "    </tr>\n",
       "    <tr>\n",
       "      <th>9</th>\n",
       "      <td>34</td>\n",
       "      <td>Young</td>\n",
       "    </tr>\n",
       "    <tr>\n",
       "      <th>...</th>\n",
       "      <td>...</td>\n",
       "      <td>...</td>\n",
       "    </tr>\n",
       "    <tr>\n",
       "      <th>3992</th>\n",
       "      <td>47</td>\n",
       "      <td>Middle</td>\n",
       "    </tr>\n",
       "    <tr>\n",
       "      <th>3993</th>\n",
       "      <td>33</td>\n",
       "      <td>Young</td>\n",
       "    </tr>\n",
       "    <tr>\n",
       "      <th>3994</th>\n",
       "      <td>46</td>\n",
       "      <td>Middle</td>\n",
       "    </tr>\n",
       "    <tr>\n",
       "      <th>3995</th>\n",
       "      <td>47</td>\n",
       "      <td>Middle</td>\n",
       "    </tr>\n",
       "    <tr>\n",
       "      <th>3996</th>\n",
       "      <td>21</td>\n",
       "      <td>Young</td>\n",
       "    </tr>\n",
       "  </tbody>\n",
       "</table>\n",
       "<p>2630 rows × 2 columns</p>\n",
       "</div>"
      ],
      "text/plain": [
       "      age age_group\n",
       "0      69     Older\n",
       "1      41    Middle\n",
       "2      68     Older\n",
       "8      49    Middle\n",
       "9      34     Young\n",
       "...   ...       ...\n",
       "3992   47    Middle\n",
       "3993   33     Young\n",
       "3994   46    Middle\n",
       "3995   47    Middle\n",
       "3996   21     Young\n",
       "\n",
       "[2630 rows x 2 columns]"
      ]
     },
     "execution_count": 20,
     "metadata": {},
     "output_type": "execute_result"
    }
   ],
   "source": [
    "# phân nhóm khách hàng dưới 35 tuổi là nhóm \"Young\", Từ 35 - 55 là \"Middle\", trên 55 là \"Older\"\n",
    "# lưu vào cột \"age_group\" bằng cách sử dụng hàm cut\n",
    "cus_demographic_notnull['age_group'] = pd.cut(x=cus_demographic_notnull['age'], bins=[20, 35, 55, 91], labels=['Young', 'Middle', 'Older'])\n",
    "cus_demographic_notnull[['age','age_group']]"
   ]
  },
  {
   "cell_type": "markdown",
   "metadata": {},
   "source": [
    "# 2. Data Completeness"
   ]
  },
  {
   "cell_type": "code",
   "execution_count": 21,
   "metadata": {
    "scrolled": true
   },
   "outputs": [
    {
     "name": "stdout",
     "output_type": "stream",
     "text": [
      "<class 'pandas.core.frame.DataFrame'>\n",
      "Int64Index: 12982 entries, 0 to 12981\n",
      "Data columns (total 25 columns):\n",
      " #   Column                               Non-Null Count  Dtype         \n",
      "---  ------                               --------------  -----         \n",
      " 0   transaction_id                       12982 non-null  int64         \n",
      " 1   product_id                           12982 non-null  int64         \n",
      " 2   customer_id                          12982 non-null  int64         \n",
      " 3   transaction_date                     12982 non-null  datetime64[ns]\n",
      " 4   online_order                         12982 non-null  float64       \n",
      " 5   order_status                         12982 non-null  object        \n",
      " 6   brand                                12982 non-null  object        \n",
      " 7   product_line                         12982 non-null  object        \n",
      " 8   product_class                        12982 non-null  object        \n",
      " 9   product_size                         12982 non-null  object        \n",
      " 10  list_price                           12982 non-null  float64       \n",
      " 11  standard_cost                        12982 non-null  float64       \n",
      " 12  product_first_sold_date              12982 non-null  float64       \n",
      " 13  first_name                           12982 non-null  object        \n",
      " 14  last_name                            12982 non-null  object        \n",
      " 15  gender                               12982 non-null  object        \n",
      " 16  past_3_years_bike_related_purchases  12982 non-null  int64         \n",
      " 17  DOB                                  12982 non-null  datetime64[ns]\n",
      " 18  job_title                            12982 non-null  object        \n",
      " 19  job_industry_category                12982 non-null  object        \n",
      " 20  wealth_segment                       12982 non-null  object        \n",
      " 21  deceased_indicator                   12982 non-null  object        \n",
      " 22  default                              12982 non-null  object        \n",
      " 23  owns_car                             12982 non-null  object        \n",
      " 24  tenure                               12982 non-null  float64       \n",
      "dtypes: datetime64[ns](2), float64(5), int64(4), object(14)\n",
      "memory usage: 2.6+ MB\n"
     ]
    }
   ],
   "source": [
    "#join bảng transactions vs demographic (đều đã dropna) và in ra những giao dịch thiếu thông tin demographic (last name hoặc first name)\n",
    "df_transaction_all = transaction.dropna()\n",
    "df_demographic_all = cus_demographic.dropna()\n",
    "trans_demo = pd.merge(df_transaction_all, df_demographic_all, on=\"customer_id\")\n",
    "trans_demo.info()\n"
   ]
  },
  {
   "cell_type": "code",
   "execution_count": 22,
   "metadata": {},
   "outputs": [
    {
     "name": "stdout",
     "output_type": "stream",
     "text": [
      "<class 'pandas.core.frame.DataFrame'>\n",
      "Int64Index: 12982 entries, 0 to 12981\n",
      "Data columns (total 25 columns):\n",
      " #   Column                               Non-Null Count  Dtype         \n",
      "---  ------                               --------------  -----         \n",
      " 0   transaction_id                       12982 non-null  int64         \n",
      " 1   product_id                           12982 non-null  int64         \n",
      " 2   customer_id                          12982 non-null  int64         \n",
      " 3   transaction_date                     12982 non-null  datetime64[ns]\n",
      " 4   online_order                         12982 non-null  float64       \n",
      " 5   order_status                         12982 non-null  object        \n",
      " 6   brand                                12982 non-null  object        \n",
      " 7   product_line                         12982 non-null  object        \n",
      " 8   product_class                        12982 non-null  object        \n",
      " 9   product_size                         12982 non-null  object        \n",
      " 10  list_price                           12982 non-null  float64       \n",
      " 11  standard_cost                        12982 non-null  float64       \n",
      " 12  product_first_sold_date              12982 non-null  float64       \n",
      " 13  first_name                           12982 non-null  object        \n",
      " 14  last_name                            12982 non-null  object        \n",
      " 15  gender                               12982 non-null  object        \n",
      " 16  past_3_years_bike_related_purchases  12982 non-null  int64         \n",
      " 17  DOB                                  12982 non-null  datetime64[ns]\n",
      " 18  job_title                            12982 non-null  object        \n",
      " 19  job_industry_category                12982 non-null  object        \n",
      " 20  wealth_segment                       12982 non-null  object        \n",
      " 21  deceased_indicator                   12982 non-null  object        \n",
      " 22  default                              12982 non-null  object        \n",
      " 23  owns_car                             12982 non-null  object        \n",
      " 24  tenure                               12982 non-null  float64       \n",
      "dtypes: datetime64[ns](2), float64(5), int64(4), object(14)\n",
      "memory usage: 2.6+ MB\n"
     ]
    }
   ],
   "source": [
    "trans_demo_null = pd.merge(transaction, cus_demographic, on=\"customer_id\")\n",
    "trans_demo.info()"
   ]
  },
  {
   "cell_type": "markdown",
   "metadata": {},
   "source": [
    "# 3. Data Aggregation (after dropping null values)"
   ]
  },
  {
   "cell_type": "code",
   "execution_count": 23,
   "metadata": {
    "scrolled": true
   },
   "outputs": [
    {
     "data": {
      "text/plain": [
       "2329"
      ]
     },
     "execution_count": 23,
     "metadata": {},
     "output_type": "execute_result"
    }
   ],
   "source": [
    "# tính tổng khách hàng có phát sinh giao dịch bằng hàm nunique\n",
    "trans_demo['customer_id'].nunique()"
   ]
  },
  {
   "cell_type": "code",
   "execution_count": 24,
   "metadata": {},
   "outputs": [
    {
     "name": "stdout",
     "output_type": "stream",
     "text": [
      "<class 'pandas.core.frame.DataFrame'>\n"
     ]
    }
   ],
   "source": []
  },
  {
   "cell_type": "code",
   "execution_count": 25,
   "metadata": {
    "scrolled": true
   },
   "outputs": [
    {
     "data": {
      "text/plain": [
       "year_month\n",
       "Apr-2017    876\n",
       "Aug-2017    888\n",
       "Dec-2017    877\n",
       "Feb-2017    859\n",
       "Jan-2017    878\n",
       "Jul-2017    868\n",
       "Jun-2017    826\n",
       "Mar-2017    848\n",
       "May-2017    871\n",
       "Nov-2017    869\n",
       "Oct-2017    886\n",
       "Sep-2017    826\n",
       "Name: customer_id, dtype: int64"
      ]
     },
     "execution_count": 25,
     "metadata": {},
     "output_type": "execute_result"
    }
   ],
   "source": [
    "# Tính số khách hàng mỗi tháng\n",
    "# hint 1: tạo column year_month bằng hàm dt.strftime\n",
    "# hint 2: group by year_month và nunique\n",
    "trans_demo['year_month'] = trans_demo['transaction_date'].dt.strftime('%b-%Y')\n",
    "trans_demo.groupby(['year_month'])['customer_id'].nunique()"
   ]
  },
  {
   "cell_type": "code",
   "execution_count": 26,
   "metadata": {
    "scrolled": true
   },
   "outputs": [
    {
     "data": {
      "text/html": [
       "<div>\n",
       "<style scoped>\n",
       "    .dataframe tbody tr th:only-of-type {\n",
       "        vertical-align: middle;\n",
       "    }\n",
       "\n",
       "    .dataframe tbody tr th {\n",
       "        vertical-align: top;\n",
       "    }\n",
       "\n",
       "    .dataframe thead th {\n",
       "        text-align: right;\n",
       "    }\n",
       "</style>\n",
       "<table border=\"1\" class=\"dataframe\">\n",
       "  <thead>\n",
       "    <tr style=\"text-align: right;\">\n",
       "      <th></th>\n",
       "      <th>gross_margin</th>\n",
       "    </tr>\n",
       "    <tr>\n",
       "      <th>year_month</th>\n",
       "      <th></th>\n",
       "    </tr>\n",
       "  </thead>\n",
       "  <tbody>\n",
       "    <tr>\n",
       "      <th>Apr-2017</th>\n",
       "      <td>614345.11</td>\n",
       "    </tr>\n",
       "    <tr>\n",
       "      <th>Aug-2017</th>\n",
       "      <td>629727.79</td>\n",
       "    </tr>\n",
       "    <tr>\n",
       "      <th>Dec-2017</th>\n",
       "      <td>581086.57</td>\n",
       "    </tr>\n",
       "    <tr>\n",
       "      <th>Feb-2017</th>\n",
       "      <td>585956.49</td>\n",
       "    </tr>\n",
       "    <tr>\n",
       "      <th>Jan-2017</th>\n",
       "      <td>598361.59</td>\n",
       "    </tr>\n",
       "    <tr>\n",
       "      <th>Jul-2017</th>\n",
       "      <td>602030.44</td>\n",
       "    </tr>\n",
       "    <tr>\n",
       "      <th>Jun-2017</th>\n",
       "      <td>557927.11</td>\n",
       "    </tr>\n",
       "    <tr>\n",
       "      <th>Mar-2017</th>\n",
       "      <td>583459.93</td>\n",
       "    </tr>\n",
       "    <tr>\n",
       "      <th>May-2017</th>\n",
       "      <td>612053.28</td>\n",
       "    </tr>\n",
       "    <tr>\n",
       "      <th>Nov-2017</th>\n",
       "      <td>611242.54</td>\n",
       "    </tr>\n",
       "    <tr>\n",
       "      <th>Oct-2017</th>\n",
       "      <td>633585.93</td>\n",
       "    </tr>\n",
       "    <tr>\n",
       "      <th>Sep-2017</th>\n",
       "      <td>557052.49</td>\n",
       "    </tr>\n",
       "  </tbody>\n",
       "</table>\n",
       "</div>"
      ],
      "text/plain": [
       "            gross_margin\n",
       "year_month              \n",
       "Apr-2017       614345.11\n",
       "Aug-2017       629727.79\n",
       "Dec-2017       581086.57\n",
       "Feb-2017       585956.49\n",
       "Jan-2017       598361.59\n",
       "Jul-2017       602030.44\n",
       "Jun-2017       557927.11\n",
       "Mar-2017       583459.93\n",
       "May-2017       612053.28\n",
       "Nov-2017       611242.54\n",
       "Oct-2017       633585.93\n",
       "Sep-2017       557052.49"
      ]
     },
     "execution_count": 26,
     "metadata": {},
     "output_type": "execute_result"
    }
   ],
   "source": [
    "# Tính gross margin của mỗi tháng. gross_margin = list_price - standard_cost\n",
    "# hint 1: tạo column gross_margin\n",
    "# hint 2: group by year_month và sử dụng hàm agg\n",
    "trans_demo['gross_margin'] = trans_demo['list_price'] - trans_demo['standard_cost']\n",
    "trans_demo.groupby('year_month').agg({'gross_margin':sum})"
   ]
  },
  {
   "cell_type": "code",
   "execution_count": 27,
   "metadata": {},
   "outputs": [
    {
     "data": {
      "text/html": [
       "<div>\n",
       "<style scoped>\n",
       "    .dataframe tbody tr th:only-of-type {\n",
       "        vertical-align: middle;\n",
       "    }\n",
       "\n",
       "    .dataframe tbody tr th {\n",
       "        vertical-align: top;\n",
       "    }\n",
       "\n",
       "    .dataframe thead th {\n",
       "        text-align: right;\n",
       "    }\n",
       "</style>\n",
       "<table border=\"1\" class=\"dataframe\">\n",
       "  <thead>\n",
       "    <tr style=\"text-align: right;\">\n",
       "      <th></th>\n",
       "      <th></th>\n",
       "      <th>list_price</th>\n",
       "    </tr>\n",
       "    <tr>\n",
       "      <th>online_order</th>\n",
       "      <th>order_status</th>\n",
       "      <th></th>\n",
       "    </tr>\n",
       "  </thead>\n",
       "  <tbody>\n",
       "    <tr>\n",
       "      <th rowspan=\"2\" valign=\"top\">0.0</th>\n",
       "      <th>Approved</th>\n",
       "      <td>7177595.84</td>\n",
       "    </tr>\n",
       "    <tr>\n",
       "      <th>Cancelled</th>\n",
       "      <td>61234.06</td>\n",
       "    </tr>\n",
       "    <tr>\n",
       "      <th rowspan=\"2\" valign=\"top\">1.0</th>\n",
       "      <th>Approved</th>\n",
       "      <td>7073731.30</td>\n",
       "    </tr>\n",
       "    <tr>\n",
       "      <th>Cancelled</th>\n",
       "      <td>85719.15</td>\n",
       "    </tr>\n",
       "  </tbody>\n",
       "</table>\n",
       "</div>"
      ],
      "text/plain": [
       "                           list_price\n",
       "online_order order_status            \n",
       "0.0          Approved      7177595.84\n",
       "             Cancelled       61234.06\n",
       "1.0          Approved      7073731.30\n",
       "             Cancelled       85719.15"
      ]
     },
     "execution_count": 27,
     "metadata": {},
     "output_type": "execute_result"
    }
   ],
   "source": [
    "# Tính số lượng order và doanh thu group by online_order và order_status \n",
    "# hint 1: group by online_order, order_status và sử dụng hàm agg\n",
    "trans_demo.groupby(['online_order','order_status']).agg({'list_price':sum})"
   ]
  },
  {
   "cell_type": "code",
   "execution_count": 28,
   "metadata": {},
   "outputs": [
    {
     "data": {
      "text/plain": [
       "online_order  order_status\n",
       "0.0           Approved        6456\n",
       "              Cancelled         51\n",
       "1.0           Approved        6399\n",
       "              Cancelled         76\n",
       "Name: transaction_id, dtype: int64"
      ]
     },
     "execution_count": 28,
     "metadata": {},
     "output_type": "execute_result"
    }
   ],
   "source": [
    "trans_demo.groupby(['online_order','order_status'])['transaction_id'].count()"
   ]
  },
  {
   "cell_type": "markdown",
   "metadata": {},
   "source": [
    "# 4. Data Visualization"
   ]
  },
  {
   "cell_type": "code",
   "execution_count": 29,
   "metadata": {
    "scrolled": true
   },
   "outputs": [
    {
     "data": {
      "image/png": "[encoded data removed]",
      "text/plain": [
       "<Figure size 360x360 with 1 Axes>"
      ]
     },
     "metadata": {
      "needs_background": "light"
     },
     "output_type": "display_data"
    }
   ],
   "source": [
    "# Sử dụng seaborn và vẽ ra 5 chart khác nhau (column, line, box,...) với đầy đủ tên chart, tên các trục và chú thích.\n",
    "# Comment insight/message muốn truyền tải thông qua từng chart\n",
    "\n",
    "import seaborn as sns\n",
    "import matplotlib.pyplot as plt\n",
    "\n",
    "# Chart 1: Scratter plot\n",
    "chart_1 = sns.lmplot(x='list_price', y='standard_cost', data=trans_demo, fit_reg=False)\n",
    "chart_1.fig.suptitle(\"Cost versus Revenue\", y=1)\n",
    "sns.set_style(\"whitegrid\")\n",
    "plt.annotate(\"We can see the positive relationship between cost and revenue\",xy=(2000,1000),xytext=(2300, 1000),\n",
    "             arrowprops=dict(facecolor='black'))\n",
    "chart_1.set(xlabel=\"Revenue\",ylabel=\"Cost\")\n",
    "plt.show()\n"
   ]
  },
  {
   "cell_type": "code",
   "execution_count": 30,
   "metadata": {
    "scrolled": true
   },
   "outputs": [
    {
     "data": {
      "image/png": "[encoded data removed]",
      "text/plain": [
       "<Figure size 432x288 with 1 Axes>"
      ]
     },
     "metadata": {},
     "output_type": "display_data"
    }
   ],
   "source": [
    "#Chart 2: Line chart\n",
    "chart_2 = sns.lineplot(x=\"year_month\", y=\"list_price\",\n",
    "                 data=trans_demo,\n",
    "                 hue=\"product_line\")\n",
    "chart_2.set_title(\"Price overtime\")\n",
    "plt.xticks(rotation=30)\n",
    "chart_2.set(xlabel=\"Time\",\n",
    "       ylabel=\"Price\")\n",
    "plt.annotate(\"=>Touring is the product line having the highest price overtime. Meanwhile Mountain is the product line having the lowest price overtime\",xy=(11,1800))\n",
    "plt.show()"
   ]
  },
  {
   "cell_type": "code",
   "execution_count": 31,
   "metadata": {},
   "outputs": [
    {
     "data": {
      "image/png": "[encoded data removed]",
      "text/plain": [
       "<Figure size 360x360 with 1 Axes>"
      ]
     },
     "metadata": {},
     "output_type": "display_data"
    }
   ],
   "source": [
    "#Chart 3: Bar Chart\n",
    "chart_3 = sns.catplot(x=\"list_price\", y=\"brand\",\n",
    "            data=trans_demo,\n",
    "            kind=\"bar\")\n",
    "chart_3.fig.suptitle(\"Price by Brand\", y=1)\n",
    "plt.annotate(\"=>WeareA2B has the highest price while Norco Bicycles has the lowest one\",xy=(1300,0),xytext=(1300,0))\n",
    "chart_3.set(xlabel=\"Price\",ylabel=\"Brand\")\n",
    "plt.show()"
   ]
  },
  {
   "cell_type": "code",
   "execution_count": 32,
   "metadata": {
    "scrolled": true
   },
   "outputs": [
    {
     "data": {
      "image/png": "[encoded data removed]",
      "text/plain": [
       "<Figure size 432x288 with 1 Axes>"
      ]
     },
     "metadata": {},
     "output_type": "display_data"
    }
   ],
   "source": [
    "chart_4 = sns.barplot(x=\"wealth_segment\",y=\"customer_id\", data=trans_demo)\n",
    "chart_4.set_title(\"Number of customer by wealth segment\")\n",
    "plt.annotate(\"=>The number of customer allocate quite equally in 3 segments\",xy=(2.5,1750))\n",
    "chart_4.set(xlabel=\"Weath segment\",ylabel=\"No. of customer\")\n",
    "plt.show()"
   ]
  },
  {
   "cell_type": "code",
   "execution_count": 33,
   "metadata": {
    "scrolled": true
   },
   "outputs": [
    {
     "data": {
      "image/png": "[encoded data removed]",
      "text/plain": [
       "<Figure size 432x288 with 1 Axes>"
      ]
     },
     "metadata": {},
     "output_type": "display_data"
    }
   ],
   "source": [
    "chart_5 = sns.boxplot(x = 'product_class', y = 'list_price', data = trans_demo)\n",
    "chart_5.set_title(\"Distribution of Price by Product Class\")\n",
    "plt.annotate(\"=>The medium class has highest medium price, followed by high class and low class.\",xy=(2.5,1750))\n",
    "chart_5.set(xlabel=\"Product Class\",ylabel=\"Price\")\n",
    "plt.show()"
   ]
  },
  {
   "cell_type": "code",
   "execution_count": null,
   "metadata": {},
   "outputs": [],
   "source": []
  }
 ],
 "metadata": {
  "kernelspec": {
   "display_name": "Python 3 (ipykernel)",
   "language": "python",
   "name": "python3"
  },
  "language_info": {
   "codemirror_mode": {
    "name": "ipython",
    "version": 3
   },
   "file_extension": ".py",
   "mimetype": "text/x-python",
   "name": "python",
   "nbconvert_exporter": "python",
   "pygments_lexer": "ipython3",
   "version": "3.9.13"
  }
 },
 "nbformat": 4,
 "nbformat_minor": 4
}
